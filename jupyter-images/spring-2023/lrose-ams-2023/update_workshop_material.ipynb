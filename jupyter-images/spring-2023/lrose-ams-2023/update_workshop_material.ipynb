{
 "cells": [
  {
   "cell_type": "markdown",
   "metadata": {},
   "source": [
    "<a name=\"top\"></a>\n",
    "<div style=\"width:1000 px\">\n",
    "\n",
    "<div style=\"float:right; width:98 px; height:98px;\">\n",
    "<img src=\"https://gateway.lrose.net/media/images/Screen_Shot_2020-09-16_at_2.55.39_PM.original.png\" alt=\"Unidata Logo\" style=\"height: 98px;\">\n",
    "</div>\n",
    "\n",
    "<h1>Update Workshop Material</h1>\n",
    "<h3>LROSE AMS 2023 Workshop</h3>\n",
    "\n",
    "<div style=\"clear:both\"></div>\n",
    "</div>\n",
    "\n",
    "---\n",
    "\n",
    "This notebook can be used to update the workshop training material whenever updates are posted.\n",
    "\n",
    "---\n",
    "\n",
    "## Running the Update\n",
    "\n",
    "When you run the following cell, any changes from the workshop GitHub repository will be applied to the material under the `ams2023/` directory in your workspace.\n"
   ]
  },
  {
   "cell_type": "code",
   "execution_count": 3,
   "metadata": {},
   "outputs": [
    {
     "name": "stdout",
     "output_type": "stream",
     "text": [
      "$ git fetch\n",
      "\n",
      "$ git reset --mixed\n",
      "\n",
      "$ git -c user.email=nbgitpuller@nbgitpuller.link -c user.name=nbgitpuller merge -Xours origin/main\n",
      "\n",
      "Already up to date.\n",
      "\n"
     ]
    }
   ],
   "source": [
    "!gitpuller https://github.com/nsf-lrose/ams2023 main ams2023"
   ]
  },
  {
   "cell_type": "markdown",
   "metadata": {
    "tags": []
   },
   "source": [
    "---\n",
    "\n",
    "## What to expect?\n",
    "\n",
    "If there are no updates to the material, the output from the cell will look something like the following:\n",
    "\n",
    "~~~bash\n",
    "\n",
    "$ git fetch\n",
    "\n",
    "$ git reset --mixed\n",
    "\n",
    "$ git -c user.email=nbgitpuller@nbgitpuller.link -c user.name=nbgitpuller merge -Xours origin/main\n",
    "\n",
    "Already up to date.\n",
    "\n",
    "~~~\n",
    "\n",
    "If there are updates to the material, the output will look something like this:\n",
    "\n",
    "~~~bash\n",
    "\n",
    "$ git fetch\n",
    "\n",
    "$ git reset --mixed\n",
    "\n",
    "$ git -c user.email=nbgitpuller@nbgitpuller.link -c user.name=nbgitpuller merge -Xours origin/main\n",
    "\n",
    "Updating 7a12da2..894542f\n",
    "\n",
    "Fast-forward\n",
    "\n",
    " README.md                              |   10 +\n",
    "\n",
    " images/LROSE_logo_small.png            |  Bin 0 -> 518397 bytes\n",
    "\n",
    " images/erad2022_cidd_mosaic.png        |  Bin 0 -> 45254 bytes\n",
    "\n",
    " params/RadxRate.nexrad                 |    6 +-\n",
    "\n",
    " params/old/Ecco.mrms_taiwan            |  777 +++++++++\n",
    "\n",
    " params/old/Ecco.nexrad_mosaic          |  777 +++++++++\n",
    " \n",
    " ~~~\n",
    "\n",
    "That's it!\n",
    "Now you have the latest and greatest material for the workshop."
   ]
  }
 ],
 "metadata": {
  "kernelspec": {
   "display_name": "Python 3 (ipykernel)",
   "language": "python",
   "name": "python3"
  },
  "language_info": {
   "codemirror_mode": {
    "name": "ipython",
    "version": 3
   },
   "file_extension": ".py",
   "mimetype": "text/x-python",
   "name": "python",
   "nbconvert_exporter": "python",
   "pygments_lexer": "ipython3",
   "version": "3.10.6"
  }
 },
 "nbformat": 4,
 "nbformat_minor": 4
}
