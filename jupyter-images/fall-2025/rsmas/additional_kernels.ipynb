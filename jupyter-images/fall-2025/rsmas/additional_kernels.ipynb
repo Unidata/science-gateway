{
 "cells": [
  {
   "cell_type": "markdown",
   "id": "40a205e0-d595-4969-9d97-9e9584605002",
   "metadata": {},
   "source": [
    "### Creating Additional Kernels\n",
    "\n",
    "You can add new kernels to JupyterLab so they appear in the **Kernel** menu.\n",
    "Each environment must include `nb_conda_kernels` and `ipykernel`.\n",
    "\n",
    "For example, to create an environment with the `seaborn` package, make an `environment.yml` file (using `pico` in the terminal or the **Text File** editor in JupyterLab):\n",
    "\n",
    "```yaml\n",
    "name: myenv\n",
    "channels:\n",
    "  - conda-forge\n",
    "dependencies:\n",
    "  - python=3\n",
    "  - seaborn\n",
    "  - nb_conda_kernels\n",
    "  - ipykernel\n",
    "```\n",
    "\n",
    "Then run:\n",
    "\n",
    "```bash\n",
    "mamba env create -f environment.yml\n",
    "```\n",
    "\n",
    "Finally, go to **File → Hub Control Panel…**, stop your server, and restart it.\n",
    "After restarting, open or create a notebook and choose **Kernel → Change Kernel → myenv**."
   ]
  }
 ],
 "metadata": {
  "kernelspec": {
   "display_name": "Python [conda env:rsmas25f]",
   "language": "python",
   "name": "conda-env-rsmas25f-py"
  },
  "language_info": {
   "codemirror_mode": {
    "name": "ipython",
    "version": 3
   },
   "file_extension": ".py",
   "mimetype": "text/x-python",
   "name": "python",
   "nbconvert_exporter": "python",
   "pygments_lexer": "ipython3",
   "version": "3.12.11"
  }
 },
 "nbformat": 4,
 "nbformat_minor": 5
}
