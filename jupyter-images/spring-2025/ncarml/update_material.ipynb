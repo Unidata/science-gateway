{
 "cells": [
  {
   "cell_type": "markdown",
   "metadata": {},
   "source": [
    "<a name=\"top\"></a>\n",
    "<div style=\"width:1000 px\">\n",
    "\n",
    "<div style=\"float:right; width:98 px; height:98px;\">\n",
    "<img src=\"https://raw.githubusercontent.com/Unidata/MetPy/main/src/metpy/plots/_static/unidata_150x150.png\" alt=\"Unidata Logo\" style=\"height: 98px;\">\n",
    "</div>\n",
    "\n",
    "<h1>Update Notebook Material</h1>\n",
    "<h3>by Unidata</h3>\n",
    "\n",
    "<div style=\"clear:both\"></div>\n",
    "</div>\n",
    "\n",
    "---\n",
    "\n",
    "This notebook can be used to update material whenever updates are posted.\n",
    "\n",
    "---\n",
    "\n",
    "## Running the Update\n",
    "\n",
    "When you run the following cell, any changes from the workshop GitHub repository will be applied to the material under the directory defined by `gitdir` in your workspace.\n"
   ]
  },
  {
   "cell_type": "code",
   "execution_count": 1,
   "metadata": {
    "tags": []
   },
   "outputs": [
    {
     "name": "stdout",
     "output_type": "stream",
     "text": [
      "$ git fetch\n",
      "\n",
      "$ git reset --mixed\n",
      "\n",
      "$ git -c user.email=nbgitpuller@nbgitpuller.link -c user.name=nbgitpuller merge -Xours origin/main\n",
      "\n",
      "Updating 3ea4557..77e23d1\n",
      "\n",
      "Fast-forward\n",
      "\n",
      " .ipynb_checkpoints/00_run_first-checkpoint.ipynb   | 101 +++++\n",
      "\n",
      " 00_run_first.ipynb                                 |  24 +-\n",
      "\n",
      " .../Linear_Models-checkpoint.ipynb                 | 406 ++++++++++-----------\n",
      "\n",
      " .../Day1_simple_regression/Linear_Models.ipynb     | 406 ++++++++++-----------\n",
      "\n",
      " 4 files changed, 506 insertions(+), 431 deletions(-)\n",
      "\n",
      " create mode 100644 .ipynb_checkpoints/00_run_first-checkpoint.ipynb\n",
      "\n"
     ]
    }
   ],
   "source": [
    "repourl = \"https://github.com//NCAR/ML_workshop2023/\"\n",
    "branch  = \"main\"\n",
    "gitdir  = \"ML_workshop2023\"\n",
    "\n",
    "!gitpuller {repourl} {branch} {gitdir}"
   ]
  },
  {
   "cell_type": "markdown",
   "metadata": {},
   "source": [
    "---\n",
    "\n",
    "## What to expect?\n",
    "\n",
    "### No Updates Available\n",
    "\n",
    "If there are no updates to the material, the output from the cell will look something like the following:\n",
    "\n",
    "~~~bash\n",
    "$ git fetch\n",
    "\n",
    "$ git reset --mixed\n",
    "\n",
    "$ git -c user.email=nbgitpuller@nbgitpuller.link -c user.name=nbgitpuller merge -Xours origin/main\n",
    "\n",
    "Already up to date.\n",
    "~~~\n",
    "\n",
    "### Updates are Available\n",
    "If there are updates to the material, the output will show the updated files being pulled, for example:\n",
    "\n",
    "~~~bash\n",
    "$ git fetch\n",
    "\n",
    "$ git reset --mixed\n",
    "\n",
    "$ git -c user.email=nbgitpuller@nbgitpuller.link -c user.name=nbgitpuller merge -Xours origin/main\n",
    "\n",
    "Updating 3ea4557..77e23d1\n",
    "\n",
    "Fast-forward\n",
    "\n",
    " .ipynb_checkpoints/00_run_first-checkpoint.ipynb   | 101 +++++\n",
    "\n",
    " 00_run_first.ipynb                                 |  24 +-\n",
    "\n",
    " .../Linear_Models-checkpoint.ipynb                 | 406 ++++++++++-----------\n",
    "\n",
    " .../Day1_simple_regression/Linear_Models.ipynb     | 406 ++++++++++-----------\n",
    "\n",
    " 4 files changed, 506 insertions(+), 431 deletions(-)\n",
    "\n",
    " create mode 100644 .ipynb_checkpoints/00_run_first-checkpoint.ipynb\n",
    "~~~\n",
    "\n",
    "That's it!\n",
    "Now you have the latest and greatest material."
   ]
  }
 ],
 "metadata": {
  "kernelspec": {
   "display_name": "Python 3 (ipykernel)",
   "language": "python",
   "name": "python3"
  },
  "language_info": {
   "codemirror_mode": {
    "name": "ipython",
    "version": 3
   },
   "file_extension": ".py",
   "mimetype": "text/x-python",
   "name": "python",
   "nbconvert_exporter": "python",
   "pygments_lexer": "ipython3",
   "version": "3.12.11"
  }
 },
 "nbformat": 4,
 "nbformat_minor": 4
}
