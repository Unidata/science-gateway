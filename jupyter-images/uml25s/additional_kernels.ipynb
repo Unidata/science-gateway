{
 "cells": [
  {
   "cell_type": "markdown",
   "id": "a9d9cf3f-590d-40ef-8421-a9789a03bb07",
   "metadata": {},
   "source": [
    "### Creating Additional Kernels\n",
    "\n",
    "You can also create additional kernels and have them be available via the kernel menu. Your kernel must contain the `nb_conda_kernels` and `ipykernel` packages for this to work. For example, if you wish to have a kernel with the `seaborn` package, you can create the following `environment.yml` from the terminal with the `pico` editor:\n",
    "\n",
    "```yaml\n",
    " name: myenv\n",
    " channels:\n",
    "   - conda-forge\n",
    " dependencies:\n",
    "   - python=3\n",
    "   - seaborn\n",
    "   - nb_conda_kernels\n",
    "   - ipykernel\n",
    "```\n",
    "\n",
    "followed by\n",
    "\n",
    "`mamba env update --name myenv -f environment.yml`\n",
    "\n",
    "at this point `myenv` will be available via the `Kernel → Change kernel...` menu."
   ]
  }
 ],
 "metadata": {
  "kernelspec": {
   "display_name": "Python 3 (ipykernel)",
   "language": "python",
   "name": "python3"
  },
  "language_info": {
   "codemirror_mode": {
    "name": "ipython",
    "version": 3
   },
   "file_extension": ".py",
   "mimetype": "text/x-python",
   "name": "python",
   "nbconvert_exporter": "python",
   "pygments_lexer": "ipython3",
   "version": "3.10.6"
  }
 },
 "nbformat": 4,
 "nbformat_minor": 5
}
