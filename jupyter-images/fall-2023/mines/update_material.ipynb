{
 "cells": [
  {
   "cell_type": "markdown",
   "metadata": {},
   "source": [
    "<a name=\"top\"></a>\n",
    "<div style=\"width:1000 px\">\n",
    "\n",
    "<div style=\"float:right; width:98 px; height:98px;\">\n",
    "<img src=\"https://raw.githubusercontent.com/Unidata/MetPy/main/src/metpy/plots/_static/unidata_150x150.png\" alt=\"Unidata Logo\" style=\"height: 98px;\">\n",
    "</div>\n",
    "\n",
    "<h1>Update Notebook Material</h1>\n",
    "<h3>by Unidata</h3>\n",
    "\n",
    "<div style=\"clear:both\"></div>\n",
    "</div>\n",
    "\n",
    "---\n",
    "\n",
    "This notebook can be used to update material whenever updates are posted.\n",
    "\n",
    "---\n",
    "\n",
    "## Running the Update\n",
    "\n",
    "When you run the following cell, any changes from the workshop GitHub repository will be applied to the material under the directory defined by `gitdir` in your workspace.\n"
   ]
  },
  {
   "cell_type": "code",
   "execution_count": null,
   "metadata": {
    "tags": []
   },
   "outputs": [],
   "source": [
    "repourl = \"https://github.com/mines-erds/557-2023\"\n",
    "branch  = \"main\"\n",
    "gitdir  = \"557-2023\"\n",
    "\n",
    "!gitpuller {repourl} {branch} {gitdir}"
   ]
  },
  {
   "cell_type": "markdown",
   "metadata": {},
   "source": [
    "---\n",
    "\n",
    "## What to expect?\n",
    "\n",
    "### No Updates Available\n",
    "\n",
    "If there are no updates to the material, the output from the cell will look something like the following:\n",
    "\n",
    "~~~bash\n",
    "$ git fetch\n",
    "\n",
    "$ git reset --mixed\n",
    "\n",
    "$ git -c user.email=nbgitpuller@nbgitpuller.link -c user.name=nbgitpuller merge -Xours origin/main\n",
    "\n",
    "Already up to date.\n",
    "~~~\n",
    "\n",
    "### Updates are Available\n",
    "If there are updates to the material, the output will show the updated files being pulled, for example:\n",
    "\n",
    "~~~bash\n",
    "$ git fetch\n",
    "\n",
    "From https://github.com/Unidata/users-workshop-2023\n",
    "\n",
    "   193f5d9..392761e  main       -> origin/main\n",
    "\n",
    "$ git reset --mixed\n",
    "\n",
    "$ git -c user.email=nbgitpuller@nbgitpuller.link -c user.name=nbgitpuller merge -Xours origin/main\n",
    "\n",
    "Updating 193f5d9..392761e\n",
    "\n",
    "Fast-forward\n",
    "\n",
    " {monday => 1_monday}/martin_tabular/TabularSummer2023.ipynb             | 0\n",
    "\n",
    " .../breakout_sessions/Intro_to_sklearn_2023.ipynb                       | 0\n",
    "\n",
    " {thursday => 4_thursday}/Grover_Open_Science/placeholder.rtf            | 0\n",
    "\n",
    " README.md                                                               | 2 ++\n",
    "\n",
    " 4 files changed, 2 insertions(+)\n",
    "\n",
    " rename {monday => 1_monday}/martin_tabular/TabularSummer2023.ipynb (100%)\n",
    "\n",
    " rename {wednesday => 3_wednesday}/breakout_sessions/Intro_to_sklearn_2023.ipynb (100%)\n",
    "\n",
    " rename {thursday => 4_thursday}/Grover_Open_Science/placeholder.rtf (100%)\n",
    "~~~\n",
    "\n",
    "That's it!\n",
    "Now you have the latest and greatest material."
   ]
  },
  {
   "cell_type": "code",
   "execution_count": null,
   "metadata": {},
   "outputs": [],
   "source": []
  }
 ],
 "metadata": {
  "kernelspec": {
   "display_name": "Python 3 (ipykernel)",
   "language": "python",
   "name": "python3"
  },
  "language_info": {
   "codemirror_mode": {
    "name": "ipython",
    "version": 3
   },
   "file_extension": ".py",
   "mimetype": "text/x-python",
   "name": "python",
   "nbconvert_exporter": "python",
   "pygments_lexer": "ipython3",
   "version": "3.11.4"
  }
 },
 "nbformat": 4,
 "nbformat_minor": 4
}
