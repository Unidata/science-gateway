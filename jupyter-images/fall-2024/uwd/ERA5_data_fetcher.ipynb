{
 "cells": [
  {
   "cell_type": "code",
   "execution_count": 1,
   "id": "931dd048-b233-4175-99a2-1303e2593c73",
   "metadata": {},
   "outputs": [
    {
     "name": "stdout",
     "output_type": "stream",
     "text": [
      "Skipping e5.oper.an.pl.128_060_pv.ll025sc.2022080100_2022080123.nc: Already downloaded.\n",
      "Skipping e5.oper.an.pl.128_060_pv.ll025sc.2022080200_2022080223.nc: Already downloaded.\n",
      "Skipping e5.oper.an.pl.128_060_pv.ll025sc.2022080300_2022080323.nc: Already downloaded.\n",
      "Skipping e5.oper.an.pl.128_060_pv.ll025sc.2022080400_2022080423.nc: Already downloaded.\n",
      "Skipping e5.oper.an.pl.128_060_pv.ll025sc.2022080500_2022080523.nc: Already downloaded.\n",
      "Skipping e5.oper.an.pl.128_060_pv.ll025sc.2022080600_2022080623.nc: Already downloaded.\n",
      "Skipping e5.oper.an.pl.128_060_pv.ll025sc.2022080700_2022080723.nc: Already downloaded.\n",
      "Skipping e5.oper.an.pl.128_060_pv.ll025sc.2022080800_2022080823.nc: Already downloaded.\n",
      "Skipping e5.oper.an.pl.128_060_pv.ll025sc.2022080900_2022080923.nc: Already downloaded.\n",
      "Downloaded: e5.oper.an.pl.128_060_pv.ll025sc.2022081000_2022081023.nc to /share/Lecture_data/ERA5/e5.oper.an.pl.128_060_pv.ll025sc.2022081000_2022081023.nc\n"
     ]
    },
    {
     "data": {
      "text/plain": [
       "'221 Goodbye.'"
      ]
     },
     "execution_count": 1,
     "metadata": {},
     "output_type": "execute_result"
    }
   ],
   "source": [
    "import os\n",
    "from ftplib import FTP\n",
    "\n",
    "target_directory = '/share/Lecture_data/ERA5/'\n",
    "os.makedirs(target_directory, exist_ok=True)\n",
    "\n",
    "ftp = FTP('adhara.aos.wisc.edu')\n",
    "ftp.login()  # Use 'anonymous' if login is not required\n",
    "ftp.cwd('pub/zanowski/ERA5/')\n",
    "filenames = ftp.nlst()\n",
    "\n",
    "for filename in filenames:\n",
    "    local_path = os.path.join(target_directory, filename)\n",
    "    \n",
    "    # Check if the file already exists and matches the size on the server\n",
    "    try:\n",
    "        server_size = ftp.size(filename)  # Get the file size on the server\n",
    "        if os.path.exists(local_path) and os.path.getsize(local_path) == server_size:\n",
    "            print(f\"Skipping {filename}: Already downloaded.\")\n",
    "            continue\n",
    "    except Exception as e:\n",
    "        print(f\"Error checking size for {filename}: {e}\")\n",
    "        continue\n",
    "    \n",
    "    # Download the file if it hasn't been fully downloaded\n",
    "    with open(local_path, 'wb') as f:\n",
    "        ftp.retrbinary(f\"RETR {filename}\", f.write)\n",
    "        print(f\"Downloaded: {filename} to {local_path}\")\n",
    "\n",
    "ftp.quit()"
   ]
  },
  {
   "cell_type": "code",
   "execution_count": null,
   "id": "86b97455-f2ae-4fd8-a73f-e2def626a033",
   "metadata": {},
   "outputs": [],
   "source": []
  },
  {
   "cell_type": "code",
   "execution_count": null,
   "id": "1cd69d6d-d4b0-485f-9a48-4a3cbbf3ca4d",
   "metadata": {},
   "outputs": [],
   "source": []
  }
 ],
 "metadata": {
  "kernelspec": {
   "display_name": "Python 3 (ipykernel)",
   "language": "python",
   "name": "python3"
  },
  "language_info": {
   "codemirror_mode": {
    "name": "ipython",
    "version": 3
   },
   "file_extension": ".py",
   "mimetype": "text/x-python",
   "name": "python",
   "nbconvert_exporter": "python",
   "pygments_lexer": "ipython3",
   "version": "3.11.6"
  }
 },
 "nbformat": 4,
 "nbformat_minor": 5
}
