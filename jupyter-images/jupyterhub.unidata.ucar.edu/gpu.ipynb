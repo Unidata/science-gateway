{
 "cells": [
  {
   "cell_type": "markdown",
   "id": "09fedf5c-6271-4c53-bf2f-52dc06f4ba79",
   "metadata": {},
   "source": [
    "# GPU Testing Notebook"
   ]
  },
  {
   "cell_type": "markdown",
   "id": "906a989f-1064-438c-95a3-81dbf3d30161",
   "metadata": {},
   "source": [
    "Small notebook to do a quick 'sniff test' of CUDA/GPU capabilities for Jetstream2 VM's. This is not an exhaustive test! Whole notebook should run in less than a minute, and might return some errors, but every cell should run.   "
   ]
  },
  {
   "cell_type": "code",
   "execution_count": null,
   "id": "fbac73b7-12e7-40f2-9bf2-f7a579eff656",
   "metadata": {
    "tags": []
   },
   "outputs": [],
   "source": [
    "!nvidia-smi"
   ]
  },
  {
   "cell_type": "markdown",
   "id": "9f3730b8-e660-42fe-9b95-29e892ca8d96",
   "metadata": {},
   "source": [
    "In a terminal window, if you want to watch/monitor this information, use the below code. This will refresh the output every second. "
   ]
  },
  {
   "cell_type": "code",
   "execution_count": null,
   "id": "6f61118e-d724-4762-ac0b-2abd9db2c04a",
   "metadata": {
    "tags": []
   },
   "outputs": [],
   "source": [
    "# watch -n 1 nvidia-smi"
   ]
  },
  {
   "cell_type": "markdown",
   "id": "6002a433-c946-4850-8a9d-3a6f076c9ba3",
   "metadata": {
    "tags": []
   },
   "source": [
    "## Tensorflow Check"
   ]
  },
  {
   "cell_type": "code",
   "execution_count": null,
   "id": "3644b3d4-95d3-43d6-a42e-0a69df65bb7f",
   "metadata": {
    "tags": []
   },
   "outputs": [],
   "source": [
    "import tensorflow as tf"
   ]
  },
  {
   "cell_type": "code",
   "execution_count": null,
   "id": "73038352-88b2-4298-b864-049e1ed3bfbc",
   "metadata": {
    "tags": []
   },
   "outputs": [],
   "source": [
    "tf.test.is_built_with_cuda()"
   ]
  },
  {
   "cell_type": "code",
   "execution_count": null,
   "id": "180eb0e3-25d6-4568-89f4-1907a4f73b86",
   "metadata": {
    "tags": []
   },
   "outputs": [],
   "source": [
    "is_cuda_gpu_available = tf.config.list_physical_devices('GPU')\n",
    "is_cuda_gpu_available"
   ]
  },
  {
   "cell_type": "markdown",
   "id": "f4afe606-9244-475d-8303-d5d601bbf518",
   "metadata": {},
   "source": [
    "## PyTorch Check"
   ]
  },
  {
   "cell_type": "code",
   "execution_count": null,
   "id": "37dae2ae-1e57-49c4-9e07-3af13caa97d8",
   "metadata": {
    "tags": []
   },
   "outputs": [],
   "source": [
    "import torch\n",
    "torch.cuda.is_available()"
   ]
  },
  {
   "cell_type": "code",
   "execution_count": null,
   "id": "f554ddee-7c86-431f-b99d-6489113c4d22",
   "metadata": {
    "tags": []
   },
   "outputs": [],
   "source": [
    "torch.cuda.device_count()"
   ]
  },
  {
   "cell_type": "code",
   "execution_count": null,
   "id": "ab8a33e4-dfeb-41f7-8ef5-e327a2495290",
   "metadata": {
    "tags": []
   },
   "outputs": [],
   "source": [
    "torch.cuda.device(0)"
   ]
  },
  {
   "cell_type": "code",
   "execution_count": null,
   "id": "b0d14f82-00c8-421b-afca-881719e96a9b",
   "metadata": {
    "tags": []
   },
   "outputs": [],
   "source": [
    "# setting device on GPU if available, else CPU\n",
    "device = torch.device('cuda' if torch.cuda.is_available() else 'cpu')\n",
    "print('Using device:', device)\n",
    "print()\n",
    "\n",
    "\n",
    "#Additional Info when using cuda\n",
    "if device.type == 'cuda':\n",
    "    print(torch.cuda.get_device_name(0))\n",
    "    print('Memory Usage:')\n",
    "    print('Allocated:', round(torch.cuda.memory_allocated(0)/1024**3,1), 'GB')"
   ]
  },
  {
   "cell_type": "code",
   "execution_count": null,
   "id": "50ec833c-9a4e-40c1-b72f-0da885041dde",
   "metadata": {
    "tags": []
   },
   "outputs": [],
   "source": [
    "torch.cuda.get_device_properties(0)"
   ]
  },
  {
   "cell_type": "code",
   "execution_count": null,
   "id": "22e8abec-62bf-40b5-9dd1-23a555418144",
   "metadata": {
    "tags": []
   },
   "outputs": [],
   "source": [
    "t = torch.randn(9,9)\n",
    "t.is_cuda  # returns False"
   ]
  },
  {
   "cell_type": "code",
   "execution_count": null,
   "id": "0109ecbd-95b2-4286-aa4e-0817c3ef3182",
   "metadata": {
    "tags": []
   },
   "outputs": [],
   "source": [
    "t = torch.randn(2,2).cuda()\n",
    "t.is_cuda  # returns True"
   ]
  },
  {
   "cell_type": "code",
   "execution_count": null,
   "id": "12df8c7d-6c7f-495f-9c05-4582dc2e0a24",
   "metadata": {
    "tags": []
   },
   "outputs": [],
   "source": [
    "t = t.cpu()\n",
    "t.is_cuda  # returns False"
   ]
  },
  {
   "cell_type": "markdown",
   "id": "994253b9-cab0-41f5-b28d-fd4c67557fd2",
   "metadata": {},
   "source": [
    "## XGBoost Check"
   ]
  },
  {
   "cell_type": "code",
   "execution_count": null,
   "id": "ec8cf6ca-ab3f-4c21-b911-e7fc063b5b17",
   "metadata": {
    "tags": []
   },
   "outputs": [],
   "source": [
    "import xgboost as xgb\n",
    "\n",
    "# Dataset we will load in\n",
    "from sklearn.datasets import load_iris"
   ]
  },
  {
   "cell_type": "code",
   "execution_count": null,
   "id": "4e8c43ec-ebf3-49f3-8a58-c1b288249976",
   "metadata": {
    "tags": []
   },
   "outputs": [],
   "source": [
    "iris = load_iris()\n",
    "X = iris[\"data\"]\n",
    "y = iris[\"target\"]\n",
    "xgb_model = xgb.XGBRegressor(\n",
    "        # If there is no GPU, the tree_method kwarg will cause either\n",
    "        # - an error in `xgb_model.fit(X, y)` (seen with pytest) or\n",
    "        # - a warning printed to the console (seen in Spyder)\n",
    "        # It's unclear which of the two happens under what circumstances.\n",
    "        tree_method=\"gpu_hist\" # GPU!!\n",
    "    )\n",
    "xgb_model.fit(X, y)\n",
    "# Check that no warning was printed."
   ]
  },
  {
   "cell_type": "markdown",
   "id": "ce5144d0-68d8-43d6-8662-43632900636a",
   "metadata": {},
   "source": [
    "## Catboost Check"
   ]
  },
  {
   "cell_type": "code",
   "execution_count": null,
   "id": "f6f83eff-3983-4203-b6e1-16aa1d51364a",
   "metadata": {
    "tags": []
   },
   "outputs": [],
   "source": [
    "import catboost\n",
    "\n",
    "from catboost.utils import get_gpu_device_count\n",
    "from catboost import CatBoostRegressor\n",
    "catboost.__version__"
   ]
  },
  {
   "cell_type": "code",
   "execution_count": null,
   "id": "e3648168-7a49-4e6a-8445-91d87bc731d8",
   "metadata": {
    "tags": []
   },
   "outputs": [],
   "source": [
    "print('I see %i GPU devices' % get_gpu_device_count())"
   ]
  },
  {
   "cell_type": "markdown",
   "id": "e3a9d518-cc65-4af9-958d-3bc4340c5802",
   "metadata": {},
   "source": [
    "    I see 1 GPU devices\n",
    "\n",
    "\n",
    "Below seems like a catboost issue, not a GPU one"
   ]
  },
  {
   "cell_type": "code",
   "execution_count": null,
   "id": "00430762-ed11-4e0a-97ae-cf4f69bdefa6",
   "metadata": {
    "tags": []
   },
   "outputs": [],
   "source": [
    "model = CatBoostRegressor(iterations=1000,\n",
    "                          task_type=\"GPU\",\n",
    "                          gpu_ram_part=0.5\n",
    "                         # n_models = 0.05\n",
    "                         # devices='1'\n",
    "                         )\n",
    "model.fit(X,\n",
    "          y,\n",
    "          verbose=False)"
   ]
  },
  {
   "cell_type": "markdown",
   "id": "609ddbd6-1b2b-403e-97bc-8df7b686d597",
   "metadata": {},
   "source": [
    "## CuPy"
   ]
  },
  {
   "cell_type": "code",
   "execution_count": null,
   "id": "6c0e1d27-9897-439b-8a50-ec6914b96cb0",
   "metadata": {
    "tags": []
   },
   "outputs": [],
   "source": [
    "import cupy as cp\n",
    "x = cp.arange(6).reshape(2, 3).astype('f')\n",
    "x"
   ]
  },
  {
   "cell_type": "code",
   "execution_count": null,
   "id": "53a21cf1-88cd-43c0-b72d-a593760b48c7",
   "metadata": {
    "tags": []
   },
   "outputs": [],
   "source": [
    "x.sum(axis=1)"
   ]
  }
 ],
 "metadata": {
  "kernelspec": {
   "display_name": "Python 3 (ipykernel)",
   "language": "python",
   "name": "python3"
  },
  "language_info": {
   "codemirror_mode": {
    "name": "ipython",
    "version": 3
   },
   "file_extension": ".py",
   "mimetype": "text/x-python",
   "name": "python",
   "nbconvert_exporter": "python",
   "pygments_lexer": "ipython3",
   "version": "3.8.10"
  }
 },
 "nbformat": 4,
 "nbformat_minor": 5
}
