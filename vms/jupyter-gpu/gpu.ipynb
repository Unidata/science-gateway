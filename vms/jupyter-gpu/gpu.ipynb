{
 "cells": [
  {
   "cell_type": "markdown",
   "id": "09fedf5c-6271-4c53-bf2f-52dc06f4ba79",
   "metadata": {},
   "source": [
    "# GPU Testing Notebook"
   ]
  },
  {
   "cell_type": "code",
   "execution_count": null,
   "id": "fbac73b7-12e7-40f2-9bf2-f7a579eff656",
   "metadata": {},
   "outputs": [],
   "source": [
    "!nvidia-smi"
   ]
  },
  {
   "cell_type": "markdown",
   "id": "6002a433-c946-4850-8a9d-3a6f076c9ba3",
   "metadata": {},
   "source": [
    "## Tensorflow Check"
   ]
  },
  {
   "cell_type": "code",
   "execution_count": null,
   "id": "3644b3d4-95d3-43d6-a42e-0a69df65bb7f",
   "metadata": {},
   "outputs": [],
   "source": [
    "import tensorflow as tf\n",
    "tf.config.list_physical_devices('GPU')"
   ]
  },
  {
   "cell_type": "code",
   "execution_count": null,
   "id": "180eb0e3-25d6-4568-89f4-1907a4f73b86",
   "metadata": {},
   "outputs": [],
   "source": [
    "is_cuda_gpu_available = tf.test.is_gpu_available(cuda_only=True)\n",
    "is_cuda_gpu_available"
   ]
  },
  {
   "cell_type": "markdown",
   "id": "f4afe606-9244-475d-8303-d5d601bbf518",
   "metadata": {},
   "source": [
    "## PyTorch Check"
   ]
  },
  {
   "cell_type": "code",
   "execution_count": null,
   "id": "37dae2ae-1e57-49c4-9e07-3af13caa97d8",
   "metadata": {},
   "outputs": [],
   "source": [
    "import torch\n",
    "torch.cuda.is_available()"
   ]
  },
  {
   "cell_type": "code",
   "execution_count": null,
   "id": "f554ddee-7c86-431f-b99d-6489113c4d22",
   "metadata": {},
   "outputs": [],
   "source": [
    "torch.cuda.device_count()"
   ]
  },
  {
   "cell_type": "code",
   "execution_count": null,
   "id": "ab8a33e4-dfeb-41f7-8ef5-e327a2495290",
   "metadata": {},
   "outputs": [],
   "source": [
    "torch.cuda.device(0)"
   ]
  },
  {
   "cell_type": "code",
   "execution_count": null,
   "id": "596d1c9a-9cd4-4e5b-97fd-557eabc58b6c",
   "metadata": {},
   "outputs": [],
   "source": [
    "torch.cuda.get_device_name(0)"
   ]
  },
  {
   "cell_type": "markdown",
   "id": "994253b9-cab0-41f5-b28d-fd4c67557fd2",
   "metadata": {},
   "source": [
    "## XGBoost Check"
   ]
  },
  {
   "cell_type": "code",
   "execution_count": null,
   "id": "ec8cf6ca-ab3f-4c21-b911-e7fc063b5b17",
   "metadata": {},
   "outputs": [],
   "source": [
    "import xgboost as xgb\n",
    "\n",
    "# Dataset we will load in\n",
    "from sklearn.datasets import load_iris"
   ]
  },
  {
   "cell_type": "code",
   "execution_count": null,
   "id": "4e8c43ec-ebf3-49f3-8a58-c1b288249976",
   "metadata": {},
   "outputs": [],
   "source": [
    "iris = load_iris()\n",
    "X = iris[\"data\"]\n",
    "y = iris[\"target\"]\n",
    "xgb_model = xgb.XGBRegressor(\n",
    "        # If there is no GPU, the tree_method kwarg will cause either\n",
    "        # - an error in `xgb_model.fit(X, y)` (seen with pytest) or\n",
    "        # - a warning printed to the console (seen in Spyder)\n",
    "        # It's unclear which of the two happens under what circumstances.\n",
    "        tree_method=\"gpu_hist\" # GPU!!\n",
    "    )\n",
    "xgb_model.fit(X, y)\n",
    "# Check that no warning was printed."
   ]
  },
  {
   "cell_type": "markdown",
   "id": "ce5144d0-68d8-43d6-8662-43632900636a",
   "metadata": {},
   "source": [
    "## Catboost Check"
   ]
  },
  {
   "cell_type": "code",
   "execution_count": null,
   "id": "f6f83eff-3983-4203-b6e1-16aa1d51364a",
   "metadata": {},
   "outputs": [],
   "source": [
    "import catboost\n",
    "\n",
    "from catboost.utils import get_gpu_device_count\n",
    "from catboost import CatBoostRegressor\n",
    "catboost.__version__"
   ]
  },
  {
   "cell_type": "code",
   "execution_count": null,
   "id": "e3648168-7a49-4e6a-8445-91d87bc731d8",
   "metadata": {},
   "outputs": [],
   "source": [
    "print('I see %i GPU devices' % get_gpu_device_count())"
   ]
  },
  {
   "cell_type": "markdown",
   "id": "e3a9d518-cc65-4af9-958d-3bc4340c5802",
   "metadata": {},
   "source": [
    "    I see 1 GPU devices\n",
    "\n",
    "\n",
    "Below seems like a catboost issue, not a GPU one"
   ]
  },
  {
   "cell_type": "code",
   "execution_count": null,
   "id": "00430762-ed11-4e0a-97ae-cf4f69bdefa6",
   "metadata": {},
   "outputs": [],
   "source": [
    "model = CatBoostRegressor(iterations=1000,\n",
    "                          task_type=\"GPU\",\n",
    "                          gpu_ram_part=0.5\n",
    "                         # n_models = 0.05\n",
    "                         # devices='1'\n",
    "                         )\n",
    "model.fit(X,\n",
    "          y,\n",
    "          verbose=False)"
   ]
  },
  {
   "cell_type": "markdown",
   "id": "609ddbd6-1b2b-403e-97bc-8df7b686d597",
   "metadata": {},
   "source": [
    "## CuPy"
   ]
  },
  {
   "cell_type": "code",
   "execution_count": null,
   "id": "6c0e1d27-9897-439b-8a50-ec6914b96cb0",
   "metadata": {},
   "outputs": [],
   "source": [
    "import cupy as cp\n",
    "x = cp.arange(6).reshape(2, 3).astype('f')\n",
    "x"
   ]
  },
  {
   "cell_type": "code",
   "execution_count": null,
   "id": "53a21cf1-88cd-43c0-b72d-a593760b48c7",
   "metadata": {},
   "outputs": [],
   "source": [
    "x.sum(axis=1)"
   ]
  }
 ],
 "metadata": {
  "kernelspec": {
   "display_name": "Python 3 (ipykernel)",
   "language": "python",
   "name": "python3"
  },
  "language_info": {
   "codemirror_mode": {
    "name": "ipython",
    "version": 3
   },
   "file_extension": ".py",
   "mimetype": "text/x-python",
   "name": "python",
   "nbconvert_exporter": "python",
   "pygments_lexer": "ipython3",
   "version": "3.8.10"
  }
 },
 "nbformat": 4,
 "nbformat_minor": 5
}
