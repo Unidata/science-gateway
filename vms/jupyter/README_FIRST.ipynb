{
 "cells": [
  {
   "cell_type": "markdown",
   "metadata": {},
   "source": [
    "# Unidata JupyterHub Server on the NSF Jetstream Cloud\n",
    "\n",
    "### ⚠ Important Message About Kernels ⚠\n",
    "\n",
    "If you try to execute one of the notebooks and get errors, it's possible the notebook is running under the wrong kernel. In JupyterLab, the kernel takes care of loading the correct code interpreter (a version of python, in the case of the Unidata notebooks) as well as all software modules required for the notebook to run. In general, you'll want to run a notebook in the kernel that corresponds to the top-level folder in shown on the left side of the JupyterLab screen. For example, if you're running one of the notebooks under the notebook-gallery folder (e.g.,  [Miller Composite Notebook](notebook-gallery/notebooks/miller_composite.ipynb)), choose the kernel marked Python `[conda env:notebook-gallery]`.\n",
    "\n",
    "To change the kernel, select `Kernel → Change kernel...` from the menu on the JupyterLab screen. The kernel that is currently in use is displayed in the upper right corner of the the JupyterLab screen; you can also click on that display to select a different kernel.\n",
    "\n",
    "## Geoscientific Notebooks\n",
    "\n",
    "With this JupyterHub server, you can explore and run pre-installed Unidata Python notebooks. We have three notebook projects available which you can find in the JupyterLab folder view on the left:\n",
    "\n",
    "- Unidata Python Workshop\n",
    "- Unidata Notebook Gallery\n",
    "- Unidata Online Python Training\n",
    "\n",
    "Therein you can find geoscientific notebooks to experiment with or to use as example templates for your own notebooks. We already preloaded all the software dependencies you will need to run these notebooks. In addition, you can create your own notebooks, folders, projects, conda environments, etc.\n",
    "\n",
    "## The Terminal\n",
    "\n",
    "There is a rather full-fledged Linux Terminal (`File → New → Terminal`) also available. There are a few reasons why you may wish to use the terminal:\n",
    "\n",
    "-   git version control capability\n",
    "-   create new conda environments. Be sure to load the `nb_conda_kernels` package in order to have these environments available from your Jupyter server via the `Kernel` menu.\n",
    "\n",
    "## Mailing List\n",
    "\n",
    "Please sign up to our mailing list to be made aware of developments and down times. Subscribe at:  [jupyter-jetstream+subscribe@ucar.edu](mailto:jupyter-jetstream+subscribe@ucar.edu).\n",
    "\n",
    "## Issues\n",
    "\n",
    "Please raise issues on <https://github.com/Unidata/xsede-jetstream/issues> if you have any problems or suggestions. Feedback is important: it will help us move forward faster together!"
   ]
  },
  {
   "cell_type": "code",
   "execution_count": null,
   "metadata": {},
   "outputs": [],
   "source": []
  }
 ],
 "metadata": {
  "kernelspec": {
   "display_name": "Python [conda env:notebook-gallery]",
   "language": "python",
   "name": "conda-env-notebook-gallery-py"
  },
  "language_info": {
   "codemirror_mode": {
    "name": "ipython",
    "version": 3
   },
   "file_extension": ".py",
   "mimetype": "text/x-python",
   "name": "python",
   "nbconvert_exporter": "python",
   "pygments_lexer": "ipython3",
   "version": "3.7.1"
  }
 },
 "nbformat": 4,
 "nbformat_minor": 2
}
