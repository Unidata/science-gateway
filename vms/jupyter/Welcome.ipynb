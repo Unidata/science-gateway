{
 "cells": [
  {
   "cell_type": "markdown",
   "metadata": {
    "collapsed": true
   },
   "source": [
    "# Welcome to the Unidata JupterHub Server on the XSEDE Jetstream Cloud\n",
    "\n",
    "Disclaimer: This JupyterHub server is currently experimental. While we are making a reasonable effort to save users work from one login to the next, you should, however, by no means rely on this fact. Save your work locally, or push out via `git` with the Terminal capabilty of JupyterHub. \n",
    "\n",
    "Here, you can explore and run a variety of Unidata Python notebooks. We have three project available:\n",
    "\n",
    "- [Unidata Python Workshop](../tree/unidata-python-workshop)\n",
    "- [Unidata Notebook Gallery](../tree/notebook-gallery)\n",
    "- [Unidata Online Python Training](../tree/online-python-training)\n",
    "\n",
    "Therein you can find a variety of notebooks to experiment with. We have already preloaded all the software dependencies you will need to run these notebooks, e.g., numpy, siphon. Moreover you can create your own geoscience."
   ]
  },
  {
   "cell_type": "code",
   "execution_count": null,
   "metadata": {
    "collapsed": true
   },
   "outputs": [],
   "source": []
  }
 ],
 "metadata": {
  "kernelspec": {
   "display_name": "Python 3",
   "language": "python",
   "name": "python3"
  },
  "language_info": {
   "codemirror_mode": {
    "name": "ipython",
    "version": 3
   },
   "file_extension": ".py",
   "mimetype": "text/x-python",
   "name": "python",
   "nbconvert_exporter": "python",
   "pygments_lexer": "ipython3",
   "version": "3.6.1"
  }
 },
 "nbformat": 4,
 "nbformat_minor": 2
}
