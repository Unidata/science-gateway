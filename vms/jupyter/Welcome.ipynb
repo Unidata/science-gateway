{
 "cells": [
  {
   "cell_type": "markdown",
   "metadata": {
    "collapsed": true
   },
   "source": [
    "# Welcome to the Unidata JupyterHub Server on the XSEDE Jetstream Cloud\n",
    "\n",
    "\n",
    "## Geoscientific Notebooks\n",
    "\n",
    "In this JupyterHub Server, you can explore and run pre-installed Unidata Python notebooks. We have three notebook projects available:\n",
    "\n",
    "- [Unidata Python Workshop](../tree/unidata-python-workshop/notebooks)\n",
    "- [Unidata Notebook Gallery](../tree/notebook-gallery/_downloads) \n",
    "- [Unidata Online Python Training](../tree/online-python-training/notebooks)\n",
    "\n",
    "Therein you can find geoscientific notebooks to experiment with or to use as example templates for your own notebooks. We already preloaded all the software dependencies you will need to run these notebooks. In addition, you can create your own notebooks, folders, projects, conda environments, etc. Again, when you are finished, save your work locally.\n",
    "\n",
    "### Kernels\n",
    "\n",
    "If you are seeing errors while running the Unidata notebooks, ensure you are in the kernel that corresponds to the project you are in by going to `Kernel → Change kernel`. For example, if running the [Miller Composite Notebook](../tree/notebook-gallery/_downloads/miller_composite.ipynb), make sure you are in the `notebook-gallery` kernel.\n",
    "\n",
    "\n",
    "## The Terminal\n",
    "\n",
    "There is a rather full-fledged Linux Terminal (`New → Terminal`) also available. There are a few reasons why you may wish to use the terminal:\n",
    "\n",
    "-   git version control capability\n",
    "-   create new conda environments. Be sure to load the `nb_conda_kernels` package in order to have these environments available from your Jupyter server via the `Kernel` menu.\n",
    "\n",
    "## Shutting Down Resources When Done\n",
    "\n",
    "**IMPORTANT**: Once you're done with a notebook or terminal, please shut it down via the `Running` tab.\n",
    "\n",
    "## User Data Backup\n",
    "\n",
    "We are now backing up the `/notebooks` directory where user data is stored. However, if this is your PhD thesis or an award winning scientific paper, please also make a local backup with `File → Download As` menu item.\n",
    "\n",
    "## Issues\n",
    "\n",
    "Please raise issues on <https://github.com/Unidata/xsede-jetstream/issues> if you have any problems or suggestions. Feedback is important: it will help us move forward faster together!"
   ]
  },
  {
   "cell_type": "code",
   "execution_count": null,
   "metadata": {
    "collapsed": true
   },
   "outputs": [],
   "source": []
  }
 ],
 "metadata": {
  "kernelspec": {
   "display_name": "Python [conda env:notebook-gallery]",
   "language": "python",
   "name": "conda-env-notebook-gallery-py"
  },
  "language_info": {
   "codemirror_mode": {
    "name": "ipython",
    "version": 3
   },
   "file_extension": ".py",
   "mimetype": "text/x-python",
   "name": "python",
   "nbconvert_exporter": "python",
   "pygments_lexer": "ipython3",
   "version": "3.6.4"
  }
 },
 "nbformat": 4,
 "nbformat_minor": 2
}
