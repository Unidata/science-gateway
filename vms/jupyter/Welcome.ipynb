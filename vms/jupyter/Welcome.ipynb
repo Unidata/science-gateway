{
 "cells": [
  {
   "cell_type": "markdown",
   "metadata": {
    "collapsed": true
   },
   "source": [
    "# Welcome to the Unidata JupyterHub Server on the XSEDE Jetstream Cloud\n",
    "\n",
    "\n",
    "**Disclaimer**: This JupyterHub server is currently experimental. While we are making a reasonable effort to persist users work (notebooks, etc.) from one login to the next, you should, however, by no means rely on this fact. Moreover, policies will be put in place to time-off and remove inactive accounts. You cannot save your notebooks and data here indefinitely, unfortunately. Save notebooks, etc. you do not wish to lose, locally (File -> Download as). Also, we are making no promises about JupyterHub uptime availability at this point. We are formulating a strategy to communicate uptime availability to users.\n",
    "\n",
    "Here, you can explore and run a variety of Unidata Python notebooks. We have three project available:\n",
    "\n",
    "- [Unidata Python Workshop](../tree/unidata-python-workshop)\n",
    "- [Unidata Notebook Gallery](../tree/notebook-gallery)\n",
    "- [Unidata Online Python Training](../tree/online-python-training)\n",
    "\n",
    "We have already preloaded all the software dependencies you will need to run these notebooks, e.g., numpy, siphon. Moreover you can create your own geoscience projects, notebooks, folders, etc. on your server. \n",
    "\n",
    "Also check out the rather full-fledged Linux Terminal (New -> Terminal). There are a few reasons why you may wish to use the terminal:\n",
    "\n",
    "- git version control capability\n",
    "- create new conda environments. Be sure to load the `nb_conda_kernels` package in order to have these environments available from your Jupyter server via the Kernel menu. You will also have to stop and restart your server via the Control Panel.\n",
    "\n",
    "**IMPORTANT**: Once you're done with a notebook or terminal, please shut it down via the \"Running\" tab.\n",
    "\n",
    "Enjoy!"
   ]
  },
  {
   "cell_type": "code",
   "execution_count": null,
   "metadata": {
    "collapsed": true
   },
   "outputs": [],
   "source": []
  }
 ],
 "metadata": {
  "kernelspec": {
   "display_name": "Python [default]",
   "language": "python",
   "name": "python3"
  },
  "language_info": {
   "codemirror_mode": {
    "name": "ipython",
    "version": 3
   },
   "file_extension": ".py",
   "mimetype": "text/x-python",
   "name": "python",
   "nbconvert_exporter": "python",
   "pygments_lexer": "ipython3",
   "version": "3.6.3"
  }
 },
 "nbformat": 4,
 "nbformat_minor": 2
}
